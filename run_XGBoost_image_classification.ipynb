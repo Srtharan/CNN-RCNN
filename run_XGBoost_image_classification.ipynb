{
  "metadata": {
    "kernelspec": {
      "display_name": "Python 3",
      "name": "python3"
    },
    "language_info": {
      "name": "python",
      "version": "3.10.12",
      "mimetype": "text/x-python",
      "codemirror_mode": {
        "name": "ipython",
        "version": 3
      },
      "pygments_lexer": "ipython3",
      "nbconvert_exporter": "python",
      "file_extension": ".py"
    },
    "kaggle": {
      "accelerator": "none",
      "dataSources": [
        {
          "sourceId": 5256696,
          "sourceType": "datasetVersion",
          "datasetId": 3041726
        }
      ],
      "dockerImageVersionId": 30822,
      "isInternetEnabled": false,
      "language": "python",
      "sourceType": "notebook",
      "isGpuEnabled": false
    },
    "colab": {
      "provenance": [],
      "include_colab_link": true
    }
  },
  "nbformat_minor": 0,
  "nbformat": 4,
  "cells": [
    {
      "cell_type": "markdown",
      "metadata": {
        "id": "view-in-github",
        "colab_type": "text"
      },
      "source": [
        "<a href=\"https://colab.research.google.com/github/Srtharan/CNN-RCNN/blob/main/run_XGBoost_image_classification.ipynb\" target=\"_parent\"><img src=\"https://colab.research.google.com/assets/colab-badge.svg\" alt=\"Open In Colab\"/></a>"
      ]
    },
    {
      "source": [
        "# IMPORTANT: RUN THIS CELL IN ORDER TO IMPORT YOUR KAGGLE DATA SOURCES,\n",
        "# THEN FEEL FREE TO DELETE THIS CELL.\n",
        "# NOTE: THIS NOTEBOOK ENVIRONMENT DIFFERS FROM KAGGLE'S PYTHON\n",
        "# ENVIRONMENT SO THERE MAY BE MISSING LIBRARIES USED BY YOUR\n",
        "# NOTEBOOK.\n",
        "import kagglehub\n",
        "birdy654_cifake_real_and_ai_generated_synthetic_images_path = kagglehub.dataset_download('birdy654/cifake-real-and-ai-generated-synthetic-images')\n",
        "\n",
        "print('Data source import complete.')\n"
      ],
      "metadata": {
        "id": "oOevVbvvgbat",
        "colab": {
          "base_uri": "https://localhost:8080/"
        },
        "outputId": "90786d59-b233-4b10-d2c4-80cd49613e9c"
      },
      "cell_type": "code",
      "outputs": [
        {
          "output_type": "stream",
          "name": "stdout",
          "text": [
            "Warning: Looks like you're using an outdated `kagglehub` version (installed: 0.3.5), please consider upgrading to the latest version (0.3.6).\n",
            "Downloading from https://www.kaggle.com/api/v1/datasets/download/birdy654/cifake-real-and-ai-generated-synthetic-images?dataset_version_number=3...\n"
          ]
        },
        {
          "output_type": "stream",
          "name": "stderr",
          "text": [
            "100%|██████████| 105M/105M [00:00<00:00, 114MB/s] "
          ]
        },
        {
          "output_type": "stream",
          "name": "stdout",
          "text": [
            "Extracting files...\n"
          ]
        },
        {
          "output_type": "stream",
          "name": "stderr",
          "text": [
            "\n"
          ]
        },
        {
          "output_type": "stream",
          "name": "stdout",
          "text": [
            "Data source import complete.\n"
          ]
        }
      ],
      "execution_count": null
    },
    {
      "cell_type": "code",
      "source": [
        "print(birdy654_cifake_real_and_ai_generated_synthetic_images_path)"
      ],
      "metadata": {
        "colab": {
          "base_uri": "https://localhost:8080/"
        },
        "id": "3XO1dXi-hc3V",
        "outputId": "d7e2b020-7d7c-4ef8-c2e0-b0cfee644333"
      },
      "execution_count": null,
      "outputs": [
        {
          "output_type": "stream",
          "name": "stdout",
          "text": [
            "/root/.cache/kagglehub/datasets/birdy654/cifake-real-and-ai-generated-synthetic-images/versions/3\n"
          ]
        }
      ]
    },
    {
      "cell_type": "code",
      "source": [
        "# This Python 3 environment comes with many helpful analytics libraries installed\n",
        "# It is defined by the kaggle/python Docker image: https://github.com/kaggle/docker-python\n",
        "# For example, here's several helpful packages to load\n",
        "\n",
        "import numpy as np # linear algebra\n",
        "import pandas as pd # data processing, CSV file I/O (e.g. pd.read_csv)\n",
        "\n",
        "# Input data files are available in the read-only \"../input/\" directory\n",
        "# For example, running this (by clicking run or pressing Shift+Enter) will list all files under the input directory\n",
        "\n",
        "import os\n",
        "for dirname, _, filenames in os.walk('/kaggle/input'):\n",
        "    for filename in filenames:\n",
        "        print(os.path.join(dirname, filename))\n",
        "\n",
        "# You can write up to 20GB to the current directory (/kaggle/working/) that gets preserved as output when you create a version using \"Save & Run All\"\n",
        "# You can also write temporary files to /kaggle/temp/, but they won't be saved outside of the current session"
      ],
      "metadata": {
        "_uuid": "8f2839f25d086af736a60e9eeb907d3b93b6e0e5",
        "_cell_guid": "b1076dfc-b9ad-4769-8c92-a6c4dae69d19",
        "trusted": true,
        "id": "XPfNsIIpgbav"
      },
      "outputs": [],
      "execution_count": null
    },
    {
      "cell_type": "markdown",
      "source": [],
      "metadata": {
        "id": "KrKKP-DAiHlW"
      }
    },
    {
      "cell_type": "code",
      "source": [
        "import os\n",
        "\n",
        "# Path to the dataset\n",
        "dataset_path = '/root/.cache/kagglehub/datasets/birdy654/cifake-real-and-ai-generated-synthetic-images/versions/3'\n",
        "\n",
        "# List all files in the directory\n",
        "files = os.listdir(dataset_path)\n",
        "print(files)\n"
      ],
      "metadata": {
        "colab": {
          "base_uri": "https://localhost:8080/"
        },
        "id": "4XADiaLdhQm3",
        "outputId": "fb496a58-136e-41fc-f9a6-b7b6d12fd1c8"
      },
      "execution_count": null,
      "outputs": [
        {
          "output_type": "stream",
          "name": "stdout",
          "text": [
            "['test', 'train']\n"
          ]
        }
      ]
    },
    {
      "cell_type": "code",
      "source": [
        "import os\n",
        "\n",
        "# Path to train and test directories\n",
        "train_dir = os.path.join(dataset_path, 'train')\n",
        "test_dir = os.path.join(dataset_path, 'test')\n",
        "\n",
        "# List files in the 'train' and 'test' directories\n",
        "train_files = os.listdir(train_dir)\n",
        "test_files = os.listdir(test_dir)\n",
        "\n",
        "print(\"Train files:\", train_files)\n",
        "print(\"Test files:\", test_files)\n"
      ],
      "metadata": {
        "colab": {
          "base_uri": "https://localhost:8080/"
        },
        "id": "DjuvJ-wwirei",
        "outputId": "80f7b79f-fd9d-4d95-eccb-f736408355a2"
      },
      "execution_count": null,
      "outputs": [
        {
          "output_type": "stream",
          "name": "stdout",
          "text": [
            "Train files: ['FAKE', 'REAL']\n",
            "Test files: ['FAKE', 'REAL']\n"
          ]
        }
      ]
    },
    {
      "cell_type": "code",
      "source": [
        "import tensorflow as tf\n",
        "from tensorflow.keras.preprocessing.image import ImageDataGenerator\n",
        "from tensorflow.keras import layers, models\n",
        "import os\n",
        "\n",
        "# Set the paths for training and testing data\n",
        "train_dir = '/root/.cache/kagglehub/datasets/birdy654/cifake-real-and-ai-generated-synthetic-images/versions/3/train'\n",
        "test_dir = '/root/.cache/kagglehub/datasets/birdy654/cifake-real-and-ai-generated-synthetic-images/versions/3/test'\n",
        "\n",
        "# Check the directory structure (optional)\n",
        "print(\"Train directory structure:\", os.listdir(train_dir))\n",
        "print(\"Test directory structure:\", os.listdir(test_dir))\n",
        "\n",
        "# Image data generators for loading and augmenting images\n",
        "train_datagen = ImageDataGenerator(\n",
        "    rescale=1./255,        # Normalizing pixel values to [0, 1]\n",
        "    rotation_range=20,     # Random rotations\n",
        "    width_shift_range=0.2, # Random horizontal shifts\n",
        "    height_shift_range=0.2, # Random vertical shifts\n",
        "    shear_range=0.2,\n",
        "    zoom_range=0.2,\n",
        "    horizontal_flip=True,\n",
        "    fill_mode='nearest'    # Fill pixels after transformation\n",
        ")\n",
        "\n",
        "test_datagen = ImageDataGenerator(rescale=1./255)  # Only rescaling for test data\n",
        "\n",
        "# Flow images from directories (train and test)\n",
        "train_generator = train_datagen.flow_from_directory(\n",
        "    train_dir,\n",
        "    target_size=(32, 32),  # CIFAR-10 image size\n",
        "    batch_size=64,\n",
        "    class_mode='binary'     # Binary classification (FAKE or REAL)\n",
        ")\n",
        "\n",
        "test_generator = test_datagen.flow_from_directory(\n",
        "    test_dir,\n",
        "    target_size=(32, 32),  # CIFAR-10 image size\n",
        "    batch_size=64,\n",
        "    class_mode='binary'\n",
        ")\n",
        "\n",
        "# CNN Model Architecture\n",
        "model = models.Sequential([\n",
        "    layers.Conv2D(32, (3, 3), activation='relu', input_shape=(32, 32, 3)),\n",
        "    layers.MaxPooling2D((2, 2)),\n",
        "    layers.Conv2D(64, (3, 3), activation='relu'),\n",
        "    layers.MaxPooling2D((2, 2)),\n",
        "    layers.Conv2D(64, (3, 3), activation='relu'),\n",
        "    layers.Flatten(),\n",
        "    layers.Dense(64, activation='relu'),\n",
        "    layers.Dense(1, activation='sigmoid')  # Binary output\n",
        "])\n",
        "\n",
        "# Compile the model\n",
        "model.compile(optimizer='adam',\n",
        "              loss='binary_crossentropy',\n",
        "              metrics=['accuracy'])\n",
        "\n",
        "# Train the model\n",
        "history = model.fit(\n",
        "    train_generator,\n",
        "    epochs=10,           # Number of epochs (can be adjusted)\n",
        "    validation_data=test_generator\n",
        ")\n",
        "\n",
        "# Evaluate the model on the test set\n",
        "test_loss, test_acc = model.evaluate(test_generator, verbose=2)\n",
        "print(f\"Test accuracy: {test_acc:.4f}\")\n"
      ],
      "metadata": {
        "trusted": true,
        "execution": {
          "iopub.status.busy": "2025-01-06T11:58:55.659197Z",
          "iopub.execute_input": "2025-01-06T11:58:55.665833Z"
        },
        "id": "ZrG2RUZagbaw",
        "outputId": "f4c1d506-c7c5-4a48-80dc-cc5f28be8642",
        "colab": {
          "base_uri": "https://localhost:8080/"
        }
      },
      "outputs": [
        {
          "output_type": "stream",
          "name": "stdout",
          "text": [
            "Train directory structure: ['FAKE', 'REAL']\n",
            "Test directory structure: ['FAKE', 'REAL']\n",
            "Found 100000 images belonging to 2 classes.\n",
            "Found 20000 images belonging to 2 classes.\n"
          ]
        },
        {
          "output_type": "stream",
          "name": "stderr",
          "text": [
            "/usr/local/lib/python3.10/dist-packages/keras/src/layers/convolutional/base_conv.py:107: UserWarning: Do not pass an `input_shape`/`input_dim` argument to a layer. When using Sequential models, prefer using an `Input(shape)` object as the first layer in the model instead.\n",
            "  super().__init__(activity_regularizer=activity_regularizer, **kwargs)\n"
          ]
        },
        {
          "output_type": "stream",
          "name": "stdout",
          "text": [
            "Epoch 1/10\n"
          ]
        },
        {
          "output_type": "stream",
          "name": "stderr",
          "text": [
            "/usr/local/lib/python3.10/dist-packages/keras/src/trainers/data_adapters/py_dataset_adapter.py:122: UserWarning: Your `PyDataset` class should call `super().__init__(**kwargs)` in its constructor. `**kwargs` can include `workers`, `use_multiprocessing`, `max_queue_size`. Do not pass these arguments to `fit()`, as they will be ignored.\n",
            "  self._warn_if_super_not_called()\n"
          ]
        },
        {
          "output_type": "stream",
          "name": "stdout",
          "text": [
            "\u001b[1m1563/1563\u001b[0m \u001b[32m━━━━━━━━━━━━━━━━━━━━\u001b[0m\u001b[37m\u001b[0m \u001b[1m273s\u001b[0m 173ms/step - accuracy: 0.7353 - loss: 0.5145 - val_accuracy: 0.7642 - val_loss: 0.5099\n",
            "Epoch 2/10\n",
            "\u001b[1m1563/1563\u001b[0m \u001b[32m━━━━━━━━━━━━━━━━━━━━\u001b[0m\u001b[37m\u001b[0m \u001b[1m305s\u001b[0m 162ms/step - accuracy: 0.8452 - loss: 0.3539 - val_accuracy: 0.8138 - val_loss: 0.4466\n",
            "Epoch 3/10\n",
            "\u001b[1m1563/1563\u001b[0m \u001b[32m━━━━━━━━━━━━━━━━━━━━\u001b[0m\u001b[37m\u001b[0m \u001b[1m249s\u001b[0m 154ms/step - accuracy: 0.8610 - loss: 0.3211 - val_accuracy: 0.8006 - val_loss: 0.4753\n",
            "Epoch 4/10\n",
            "\u001b[1m1563/1563\u001b[0m \u001b[32m━━━━━━━━━━━━━━━━━━━━\u001b[0m\u001b[37m\u001b[0m \u001b[1m243s\u001b[0m 155ms/step - accuracy: 0.8729 - loss: 0.2949 - val_accuracy: 0.8641 - val_loss: 0.3529\n",
            "Epoch 5/10\n",
            "\u001b[1m1563/1563\u001b[0m \u001b[32m━━━━━━━━━━━━━━━━━━━━\u001b[0m\u001b[37m\u001b[0m \u001b[1m258s\u001b[0m 153ms/step - accuracy: 0.8836 - loss: 0.2786 - val_accuracy: 0.8288 - val_loss: 0.4304\n",
            "Epoch 6/10\n",
            "\u001b[1m1563/1563\u001b[0m \u001b[32m━━━━━━━━━━━━━━━━━━━━\u001b[0m\u001b[37m\u001b[0m \u001b[1m239s\u001b[0m 153ms/step - accuracy: 0.8851 - loss: 0.2703 - val_accuracy: 0.8486 - val_loss: 0.3742\n",
            "Epoch 7/10\n",
            "\u001b[1m1563/1563\u001b[0m \u001b[32m━━━━━━━━━━━━━━━━━━━━\u001b[0m\u001b[37m\u001b[0m \u001b[1m240s\u001b[0m 153ms/step - accuracy: 0.8901 - loss: 0.2598 - val_accuracy: 0.8492 - val_loss: 0.3568\n",
            "Epoch 8/10\n",
            "\u001b[1m1563/1563\u001b[0m \u001b[32m━━━━━━━━━━━━━━━━━━━━\u001b[0m\u001b[37m\u001b[0m \u001b[1m236s\u001b[0m 151ms/step - accuracy: 0.8952 - loss: 0.2534 - val_accuracy: 0.8172 - val_loss: 0.4892\n",
            "Epoch 9/10\n",
            "\u001b[1m1563/1563\u001b[0m \u001b[32m━━━━━━━━━━━━━━━━━━━━\u001b[0m\u001b[37m\u001b[0m \u001b[1m239s\u001b[0m 152ms/step - accuracy: 0.8994 - loss: 0.2408 - val_accuracy: 0.8884 - val_loss: 0.2783\n",
            "Epoch 10/10\n",
            "\u001b[1m1563/1563\u001b[0m \u001b[32m━━━━━━━━━━━━━━━━━━━━\u001b[0m\u001b[37m\u001b[0m \u001b[1m259s\u001b[0m 150ms/step - accuracy: 0.9042 - loss: 0.2353 - val_accuracy: 0.8709 - val_loss: 0.3025\n",
            "313/313 - 13s - 41ms/step - accuracy: 0.8709 - loss: 0.3025\n",
            "Test accuracy: 0.8709\n"
          ]
        }
      ],
      "execution_count": null
    },
    {
      "cell_type": "markdown",
      "source": [
        "# with xgboost extension"
      ],
      "metadata": {
        "id": "LLhPeh24gbax"
      }
    },
    {
      "cell_type": "code",
      "source": [
        "!pip install xgboost"
      ],
      "metadata": {
        "colab": {
          "base_uri": "https://localhost:8080/"
        },
        "id": "s7KRl237kE3W",
        "outputId": "43d72b4d-4319-4f14-89f9-c758d26e3009"
      },
      "execution_count": null,
      "outputs": [
        {
          "output_type": "stream",
          "name": "stdout",
          "text": [
            "Requirement already satisfied: xgboost in /usr/local/lib/python3.10/dist-packages (2.1.3)\n",
            "Requirement already satisfied: numpy in /usr/local/lib/python3.10/dist-packages (from xgboost) (1.26.4)\n",
            "Requirement already satisfied: nvidia-nccl-cu12 in /usr/local/lib/python3.10/dist-packages (from xgboost) (2.23.4)\n",
            "Requirement already satisfied: scipy in /usr/local/lib/python3.10/dist-packages (from xgboost) (1.13.1)\n"
          ]
        }
      ]
    },
    {
      "cell_type": "code",
      "source": [
        "from sklearn.metrics import accuracy_score\n",
        "\n",
        "# Get the features from the training set using the CNN\n",
        "train_features = model.predict(train_generator, verbose=1)\n",
        "\n",
        "# Get the labels from the training set\n",
        "train_labels = train_generator.classes\n",
        "\n",
        "# Get the features from the test set using the CNN\n",
        "test_features = model.predict(test_generator, verbose=1)\n",
        "\n",
        "# Get the labels from the test set\n",
        "test_labels = test_generator.classes\n",
        "\n",
        "# Flatten the features into 1D vectors for XGBoost\n",
        "train_features_flat = train_features.reshape(train_features.shape[0], -1)\n",
        "test_features_flat = test_features.reshape(test_features.shape[0], -1)\n"
      ],
      "metadata": {
        "trusted": true,
        "id": "pX-k3l7agbay",
        "colab": {
          "base_uri": "https://localhost:8080/"
        },
        "outputId": "22ddebf9-648a-4945-8e61-6ac06a94bdc5"
      },
      "outputs": [
        {
          "output_type": "stream",
          "name": "stdout",
          "text": [
            "\u001b[1m1563/1563\u001b[0m \u001b[32m━━━━━━━━━━━━━━━━━━━━\u001b[0m\u001b[37m\u001b[0m \u001b[1m161s\u001b[0m 103ms/step\n",
            "\u001b[1m313/313\u001b[0m \u001b[32m━━━━━━━━━━━━━━━━━━━━\u001b[0m\u001b[37m\u001b[0m \u001b[1m14s\u001b[0m 46ms/step\n"
          ]
        }
      ],
      "execution_count": null
    },
    {
      "cell_type": "code",
      "source": [
        "import xgboost as xgb  # XGBoost library\n",
        "from sklearn.metrics import accuracy_score  # To calculate accuracy\n",
        "\n",
        "# Train an XGBoost model\n",
        "xgb_model = xgb.XGBClassifier(eval_metric='logloss')\n",
        "\n",
        "# Fit the XGBoost model on the extracted features and labels\n",
        "xgb_model.fit(train_features_flat, train_labels)\n",
        "\n",
        "# Evaluate the XGBoost model on the test set\n",
        "test_preds = xgb_model.predict(test_features_flat)\n",
        "test_acc = accuracy_score(test_labels, test_preds)\n",
        "print(f\"Test accuracy: {test_acc:.4f}\")\n",
        "print(f\"Test accuracy with XGBoost: {test_acc:.4f}\")"
      ],
      "metadata": {
        "colab": {
          "base_uri": "https://localhost:8080/"
        },
        "id": "44XXV-b3uGXV",
        "outputId": "db343fd6-0260-4be3-c0d6-a6ba3579bfd0"
      },
      "execution_count": null,
      "outputs": [
        {
          "output_type": "stream",
          "name": "stdout",
          "text": [
            "Test accuracy: 0.4956\n",
            "Test accuracy with XGBoost: 0.4956\n"
          ]
        }
      ]
    },
    {
      "cell_type": "markdown",
      "source": [
        "# VGG16"
      ],
      "metadata": {
        "id": "vr2njUkvw3It"
      }
    },
    {
      "cell_type": "code",
      "source": [
        "import numpy as np\n",
        "from keras.applications import VGG16\n",
        "from keras.models import Model\n",
        "from keras.layers import GlobalAveragePooling2D\n",
        "from keras.preprocessing import image\n",
        "import os\n",
        "import cv2\n",
        "\n",
        "# Load the pre-trained VGG16 model without the top layers (no fully connected layers)\n",
        "base_model = VGG16(weights='imagenet', include_top=False, input_shape=(224, 224, 3))\n",
        "\n",
        "# Freeze the VGG16 layers to prevent them from being updated during training\n",
        "for layer in base_model.layers:\n",
        "    layer.trainable = False\n",
        "\n",
        "# Create a feature extraction model by adding a GlobalAveragePooling2D layer\n",
        "feature_extractor = Model(inputs=base_model.input, outputs=base_model.output)\n",
        "\n",
        "# Function to load images and preprocess them for VGG16\n",
        "def load_and_preprocess_image(img_path, target_size=(224, 224)):\n",
        "    img = image.load_img(img_path, target_size=target_size)\n",
        "    img_array = image.img_to_array(img)  # Convert image to a numpy array\n",
        "    img_array = np.expand_dims(img_array, axis=0)  # Add batch dimension\n",
        "    img_array = img_array / 255.0  # Normalize image to range [0, 1]\n",
        "    return img_array\n",
        "\n",
        "# Example: Load an image from the test dataset (you can load your own images here)\n",
        "test_image_path = \"/root/.cache/kagglehub/datasets/birdy654/cifake-real-and-ai-generated-synthetic-images/versions/3/train/REAL/0000 (10).jpg\"\n",
        "img = load_and_preprocess_image(test_image_path)\n",
        "\n",
        "# Extract features using VGG16\n",
        "features = feature_extractor.predict(img)\n",
        "print(\"Extracted Features Shape:\", features.shape)\n",
        "\n",
        "# You can reshape these features (if needed) to use them with a classifier\n",
        "features_flat = features.reshape(1, -1)  # Flatten the features into a single vector\n",
        "print(\"Flattened Features Shape:\", features_flat.shape)\n"
      ],
      "metadata": {
        "colab": {
          "base_uri": "https://localhost:8080/"
        },
        "id": "sj2ZMaSGw2dU",
        "outputId": "946d13c3-4a9e-4770-c6b5-1e495bd08f1b"
      },
      "execution_count": null,
      "outputs": [
        {
          "output_type": "stream",
          "name": "stdout",
          "text": [
            "\u001b[1m1/1\u001b[0m \u001b[32m━━━━━━━━━━━━━━━━━━━━\u001b[0m\u001b[37m\u001b[0m \u001b[1m1s\u001b[0m 1s/step\n",
            "Extracted Features Shape: (1, 7, 7, 512)\n",
            "Flattened Features Shape: (1, 25088)\n"
          ]
        }
      ]
    },
    {
      "cell_type": "code",
      "source": [
        "import xgboost as xgb\n",
        "from sklearn.metrics import accuracy_score\n",
        "from sklearn.model_selection import train_test_split\n",
        "\n",
        "# Assuming `train_features_flat` and `train_labels` contain the features and labels of the training data\n",
        "\n",
        "# Train-test split for training XGBoost\n",
        "X_train, X_val, y_train, y_val = train_test_split(train_features_flat, train_labels, test_size=0.2, random_state=42)\n",
        "\n",
        "# Initialize XGBoost classifier\n",
        "xgb_model = xgb.XGBClassifier(eval_metric='logloss')\n",
        "\n",
        "# Train the model\n",
        "xgb_model.fit(X_train, y_train)\n",
        "\n",
        "# Evaluate the model\n",
        "val_preds = xgb_model.predict(X_val)\n",
        "val_acc = accuracy_score(y_val, val_preds)\n",
        "print(f\"Validation accuracy with VGG16 features + XGBoost: {val_acc:.4f}\")\n",
        "\n",
        "# Now you can use this model to predict on the test set:\n",
        "test_preds = xgb_model.predict(test_features_flat)\n",
        "test_acc = accuracy_score(test_labels, test_preds)\n",
        "print(f\"Test accuracy with VGG16 features + XGBoost: {test_acc:.4f}\")\n"
      ],
      "metadata": {
        "colab": {
          "base_uri": "https://localhost:8080/"
        },
        "id": "d5A40GryxT6K",
        "outputId": "4d94d376-ed8b-4574-ce85-e8592d025787"
      },
      "execution_count": null,
      "outputs": [
        {
          "output_type": "stream",
          "name": "stdout",
          "text": [
            "Validation accuracy with VGG16 features + XGBoost: 0.5051\n",
            "Test accuracy with VGG16 features + XGBoost: 0.5005\n"
          ]
        }
      ]
    },
    {
      "cell_type": "markdown",
      "source": [
        "# Visualisation"
      ],
      "metadata": {
        "id": "h5_jxMDvgbay"
      }
    },
    {
      "cell_type": "code",
      "source": [
        "import matplotlib.pyplot as plt\n",
        "\n",
        "# Plot training & validation accuracy values\n",
        "plt.plot(history.history['accuracy'])\n",
        "plt.plot(history.history['val_accuracy'])\n",
        "plt.title('Model accuracy')\n",
        "plt.xlabel('Epoch')\n",
        "plt.ylabel('Accuracy')\n",
        "plt.legend(['Train', 'Test'], loc='upper left')\n",
        "plt.show()\n",
        "\n",
        "# Plot training & validation loss values\n",
        "plt.plot(history.history['loss'])\n",
        "plt.plot(history.history['val_loss'])\n",
        "plt.title('Model loss')\n",
        "plt.xlabel('Epoch')\n",
        "plt.ylabel('Loss')\n",
        "plt.legend(['Train', 'Test'], loc='upper left')\n",
        "plt.show()\n"
      ],
      "metadata": {
        "trusted": true,
        "id": "mXqFeL4Bgbay",
        "colab": {
          "base_uri": "https://localhost:8080/",
          "height": 927
        },
        "outputId": "00c4b6b3-83d9-4e97-fa4f-1544724fc8a0"
      },
      "outputs": [
        {
          "output_type": "display_data",
          "data": {
            "text/plain": [
              "<Figure size 640x480 with 1 Axes>"
            ],
            "image/png": "[encoded data removed]"
          },
          "metadata": {}
        },
        {
          "output_type": "display_data",
          "data": {
            "text/plain": [
              "<Figure size 640x480 with 1 Axes>"
            ],
            "image/png": "[encoded data removed]"
          },
          "metadata": {}
        }
      ],
      "execution_count": null
    },
    {
      "cell_type": "markdown",
      "source": [
        "# Validation"
      ],
      "metadata": {
        "id": "beBljFNjgbay"
      }
    },
    {
      "cell_type": "code",
      "source": [
        "from tensorflow.keras.preprocessing import image\n",
        "import numpy as np\n",
        "import matplotlib.pyplot as plt\n",
        "\n",
        "# Function to load an image and make a prediction\n",
        "def predict_image(img_path, model):\n",
        "    # Load the image with target size (32, 32)\n",
        "    img = image.load_img(img_path, target_size=(32, 32))\n",
        "\n",
        "    # Convert the image to an array and normalize\n",
        "    img_array = image.img_to_array(img) / 255.0  # Normalize to [0, 1]\n",
        "\n",
        "    # Reshape the image to match the input shape (batch size, height, width, channels)\n",
        "    img_array = np.expand_dims(img_array, axis=0)\n",
        "\n",
        "    # Predict the class\n",
        "    prediction = model.predict(img_array)\n",
        "    print('prediction:', prediction)\n",
        "\n",
        "    # Display the image\n",
        "    plt.imshow(img)\n",
        "    plt.axis('off')  # Turn off axis labels\n",
        "    plt.show()\n",
        "\n",
        "    # Return the result based on prediction\n",
        "    if prediction > 0.5:\n",
        "        return \"REAL\"\n",
        "    else:\n",
        "        return \"FAKE\"\n",
        "\n",
        "# Example usage:\n",
        "# Assuming your model is trained and saved in the variable `model`\n",
        "img_path = input(\"Enter the path to the image you want to predict: \")\n",
        "result = predict_image(img_path, model)\n",
        "print(f\"The image is {result}.\")\n"
      ],
      "metadata": {
        "trusted": true,
        "id": "wblWS41-gbay",
        "colab": {
          "base_uri": "https://localhost:8080/",
          "height": 491
        },
        "outputId": "89351c95-b565-4ce5-f322-b0c401caeecc"
      },
      "outputs": [
        {
          "output_type": "stream",
          "name": "stdout",
          "text": [
            "Enter the path to the image you want to predict: /root/.cache/kagglehub/datasets/birdy654/cifake-real-and-ai-generated-synthetic-images/versions/3/train/FAKE/1000 (10).jpg\n",
            "\u001b[1m1/1\u001b[0m \u001b[32m━━━━━━━━━━━━━━━━━━━━\u001b[0m\u001b[37m\u001b[0m \u001b[1m0s\u001b[0m 43ms/step\n",
            "prediction: [[0.0394498]]\n"
          ]
        },
        {
          "output_type": "display_data",
          "data": {
            "text/plain": [
              "<Figure size 640x480 with 1 Axes>"
            ],
            "image/png": "[encoded data removed]"
          },
          "metadata": {}
        },
        {
          "output_type": "stream",
          "name": "stdout",
          "text": [
            "The image is FAKE.\n"
          ]
        }
      ],
      "execution_count": null
    },
    {
      "cell_type": "code",
      "source": [
        "from tensorflow.keras.preprocessing import image\n",
        "import numpy as np\n",
        "import matplotlib.pyplot as plt\n",
        "\n",
        "# Function to load an image and make a prediction\n",
        "def predict_image(img_path, model):\n",
        "    # Load the image with target size (32, 32)\n",
        "    img = image.load_img(img_path, target_size=(32, 32))\n",
        "\n",
        "    # Convert the image to an array and normalize\n",
        "    img_array = image.img_to_array(img) / 255.0  # Normalize to [0, 1]\n",
        "\n",
        "    # Reshape the image to match the input shape (batch size, height, width, channels)\n",
        "    img_array = np.expand_dims(img_array, axis=0)\n",
        "\n",
        "    # Predict the class\n",
        "    prediction = model.predict(img_array)\n",
        "    print('prediction:', prediction)\n",
        "\n",
        "    # Display the image\n",
        "    plt.imshow(img)\n",
        "    plt.axis('off')  # Turn off axis labels\n",
        "    plt.show()\n",
        "\n",
        "    # Return the result based on prediction\n",
        "    if prediction > 0.5:\n",
        "        return \"REAL\"\n",
        "    else:\n",
        "        return \"FAKE\"\n",
        "\n",
        "# Example usage:\n",
        "# Assuming your model is trained and saved in the variable `model`\n",
        "img_path = input(\"Enter the path to the image you want to predict: \")\n",
        "result = predict_image(img_path, model)\n",
        "print(f\"The image is {result}.\")\n"
      ],
      "metadata": {
        "colab": {
          "base_uri": "https://localhost:8080/",
          "height": 491
        },
        "id": "eualClykyef8",
        "outputId": "10b2b18c-cbae-4ad5-f554-258abdfdcc68"
      },
      "execution_count": null,
      "outputs": [
        {
          "output_type": "stream",
          "name": "stdout",
          "text": [
            "Enter the path to the image you want to predict: /root/.cache/kagglehub/datasets/birdy654/cifake-real-and-ai-generated-synthetic-images/versions/3/train/REAL/0001 (6).jpg\n",
            "\u001b[1m1/1\u001b[0m \u001b[32m━━━━━━━━━━━━━━━━━━━━\u001b[0m\u001b[37m\u001b[0m \u001b[1m0s\u001b[0m 20ms/step\n",
            "prediction: [[0.7754986]]\n"
          ]
        },
        {
          "output_type": "display_data",
          "data": {
            "text/plain": [
              "<Figure size 640x480 with 1 Axes>"
            ],
            "image/png": "[encoded data removed]"
          },
          "metadata": {}
        },
        {
          "output_type": "stream",
          "name": "stdout",
          "text": [
            "The image is REAL.\n"
          ]
        }
      ]
    }
  ]
}